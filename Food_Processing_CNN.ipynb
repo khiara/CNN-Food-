{
  "nbformat": 4,
  "nbformat_minor": 0,
  "metadata": {
    "colab": {
      "name": "Food Processing CNN",
      "provenance": [],
      "collapsed_sections": []
    },
    "kernelspec": {
      "name": "python3",
      "display_name": "Python 3"
    }
  },
  "cells": [
    {
      "cell_type": "code",
      "metadata": {
        "id": "kGW3miYtVL-c",
        "colab_type": "code",
        "colab": {}
      },
      "source": [
        "!pip install -q tf-nightly\n",
        "\n",
        "import tensorflow as tf\n",
        "from tensorflow.keras import datasets, layers, models\n",
        "\n",
        "import numpy as np\n",
        "import matplotlib.pyplot as plt"
      ],
      "execution_count": 0,
      "outputs": []
    },
    {
      "cell_type": "code",
      "metadata": {
        "id": "TKquVTH5VmTl",
        "colab_type": "code",
        "colab": {
          "base_uri": "https://localhost:8080/",
          "height": 34
        },
        "outputId": "95077750-90b8-4d20-ae4d-8a0e5d5def5d"
      },
      "source": [
        "from google.colab import drive\n",
        "drive.mount('/content/drive')"
      ],
      "execution_count": 2,
      "outputs": [
        {
          "output_type": "stream",
          "text": [
            "Drive already mounted at /content/drive; to attempt to forcibly remount, call drive.mount(\"/content/drive\", force_remount=True).\n"
          ],
          "name": "stdout"
        }
      ]
    },
    {
      "cell_type": "code",
      "metadata": {
        "id": "j29yqfUgV0Ml",
        "colab_type": "code",
        "colab": {
          "base_uri": "https://localhost:8080/",
          "height": 68
        },
        "outputId": "85d14c26-e74f-48c9-fb02-30857e60d10a"
      },
      "source": [
        "from keras.preprocessing.image import ImageDataGenerator\n",
        "\n",
        "train_datagen = ImageDataGenerator(rescale = 1./255,\n",
        "                                   shear_range = 0.2,\n",
        "                                   zoom_range = 0.2,\n",
        "                                   horizontal_flip = True)\n",
        "\n",
        "test_datagen = ImageDataGenerator(rescale = 1./255)\n",
        "\n",
        "training_set = train_datagen.flow_from_directory('/content/drive/My Drive/Colab Notebooks/CNN Homework/training_set',\n",
        "                                                 target_size = (64, 64),\n",
        "                                                 batch_size = 32,\n",
        "                                                 class_mode = 'binary')\n",
        "\n",
        "test_set = test_datagen.flow_from_directory('/content/drive/My Drive/Colab Notebooks/CNN Homework/test_set',\n",
        "                                            target_size = (64, 64),\n",
        "                                            batch_size = 32,\n",
        "                                            class_mode = 'binary')"
      ],
      "execution_count": 3,
      "outputs": [
        {
          "output_type": "stream",
          "text": [
            "Using TensorFlow backend.\n"
          ],
          "name": "stderr"
        },
        {
          "output_type": "stream",
          "text": [
            "Found 16 images belonging to 2 classes.\n",
            "Found 20 images belonging to 2 classes.\n"
          ],
          "name": "stdout"
        }
      ]
    },
    {
      "cell_type": "code",
      "metadata": {
        "id": "GgNr_4H4V3wM",
        "colab_type": "code",
        "colab": {
          "base_uri": "https://localhost:8080/",
          "height": 323
        },
        "outputId": "875cde70-3562-4e82-b06b-26fd3ba889f7"
      },
      "source": [
        "classifier = tf.keras.Sequential()\n",
        "\n",
        "classifier.add(layers.Conv2D(32, (3, 3), input_shape = (64, 64, 3), activation = 'relu'))\n",
        "classifier.add(layers.MaxPooling2D(pool_size = (2, 2)))\n",
        "classifier.add(layers.Conv2D(32, (3, 3), activation = 'relu'))\n",
        "classifier.add(layers.MaxPooling2D(pool_size = (2, 2)))\n",
        "classifier.add(layers.Conv2D(64, (3, 3), activation = 'relu'))\n",
        "classifier.summary()\n"
      ],
      "execution_count": 4,
      "outputs": [
        {
          "output_type": "stream",
          "text": [
            "Model: \"sequential\"\n",
            "_________________________________________________________________\n",
            "Layer (type)                 Output Shape              Param #   \n",
            "=================================================================\n",
            "conv2d (Conv2D)              (None, 62, 62, 32)        896       \n",
            "_________________________________________________________________\n",
            "max_pooling2d (MaxPooling2D) (None, 31, 31, 32)        0         \n",
            "_________________________________________________________________\n",
            "conv2d_1 (Conv2D)            (None, 29, 29, 32)        9248      \n",
            "_________________________________________________________________\n",
            "max_pooling2d_1 (MaxPooling2 (None, 14, 14, 32)        0         \n",
            "_________________________________________________________________\n",
            "conv2d_2 (Conv2D)            (None, 12, 12, 64)        18496     \n",
            "=================================================================\n",
            "Total params: 28,640\n",
            "Trainable params: 28,640\n",
            "Non-trainable params: 0\n",
            "_________________________________________________________________\n"
          ],
          "name": "stdout"
        }
      ]
    },
    {
      "cell_type": "code",
      "metadata": {
        "id": "iwTsXrQRV7QW",
        "colab_type": "code",
        "colab": {
          "base_uri": "https://localhost:8080/",
          "height": 425
        },
        "outputId": "f2136bf3-69ec-444f-a1fd-a1361a53d69d"
      },
      "source": [
        "classifier.add(layers.Flatten())\n",
        "classifier.add(layers.Dense(units = 128, activation = 'relu'))\n",
        "classifier.add(layers.Dense(units = 1, activation = 'sigmoid'))\n",
        "classifier.summary()"
      ],
      "execution_count": 5,
      "outputs": [
        {
          "output_type": "stream",
          "text": [
            "Model: \"sequential\"\n",
            "_________________________________________________________________\n",
            "Layer (type)                 Output Shape              Param #   \n",
            "=================================================================\n",
            "conv2d (Conv2D)              (None, 62, 62, 32)        896       \n",
            "_________________________________________________________________\n",
            "max_pooling2d (MaxPooling2D) (None, 31, 31, 32)        0         \n",
            "_________________________________________________________________\n",
            "conv2d_1 (Conv2D)            (None, 29, 29, 32)        9248      \n",
            "_________________________________________________________________\n",
            "max_pooling2d_1 (MaxPooling2 (None, 14, 14, 32)        0         \n",
            "_________________________________________________________________\n",
            "conv2d_2 (Conv2D)            (None, 12, 12, 64)        18496     \n",
            "_________________________________________________________________\n",
            "flatten (Flatten)            (None, 9216)              0         \n",
            "_________________________________________________________________\n",
            "dense (Dense)                (None, 128)               1179776   \n",
            "_________________________________________________________________\n",
            "dense_1 (Dense)              (None, 1)                 129       \n",
            "=================================================================\n",
            "Total params: 1,208,545\n",
            "Trainable params: 1,208,545\n",
            "Non-trainable params: 0\n",
            "_________________________________________________________________\n"
          ],
          "name": "stdout"
        }
      ]
    },
    {
      "cell_type": "code",
      "metadata": {
        "id": "wHd_MHNmV-vR",
        "colab_type": "code",
        "colab": {
          "base_uri": "https://localhost:8080/",
          "height": 374
        },
        "outputId": "4344ffbe-076e-40ad-cdc8-c6714884e602"
      },
      "source": [
        "classifier.compile(optimizer = 'adam', loss = 'binary_crossentropy', metrics = ['accuracy'])\n",
        "\n",
        "classifier.fit(training_set,\n",
        "              steps_per_epoch = 16,\n",
        "              epochs = 10,\n",
        "              validation_data = test_set,\n",
        "              validation_steps = 20)"
      ],
      "execution_count": 6,
      "outputs": [
        {
          "output_type": "stream",
          "text": [
            "Epoch 1/10\n",
            "16/16 [==============================] - 4s 225ms/step - loss: 0.3650 - accuracy: 0.8359 - val_loss: 0.0011 - val_accuracy: 1.0000\n",
            "Epoch 2/10\n",
            "16/16 [==============================] - 4s 223ms/step - loss: 2.6343e-04 - accuracy: 1.0000 - val_loss: 3.0322e-07 - val_accuracy: 1.0000\n",
            "Epoch 3/10\n",
            "16/16 [==============================] - 4s 221ms/step - loss: 2.2218e-07 - accuracy: 1.0000 - val_loss: 6.7598e-09 - val_accuracy: 1.0000\n",
            "Epoch 4/10\n",
            "16/16 [==============================] - 4s 220ms/step - loss: 3.6562e-08 - accuracy: 1.0000 - val_loss: 3.6438e-09 - val_accuracy: 1.0000\n",
            "Epoch 5/10\n",
            "16/16 [==============================] - 3s 218ms/step - loss: 3.0448e-08 - accuracy: 1.0000 - val_loss: 3.2586e-09 - val_accuracy: 1.0000\n",
            "Epoch 6/10\n",
            "16/16 [==============================] - 3s 219ms/step - loss: 3.8250e-08 - accuracy: 1.0000 - val_loss: 3.1738e-09 - val_accuracy: 1.0000\n",
            "Epoch 7/10\n",
            "16/16 [==============================] - 4s 220ms/step - loss: 3.0031e-08 - accuracy: 1.0000 - val_loss: 3.1374e-09 - val_accuracy: 1.0000\n",
            "Epoch 8/10\n",
            "16/16 [==============================] - 4s 221ms/step - loss: 2.8022e-08 - accuracy: 1.0000 - val_loss: 3.1054e-09 - val_accuracy: 1.0000\n",
            "Epoch 9/10\n",
            "16/16 [==============================] - 4s 221ms/step - loss: 2.9148e-08 - accuracy: 1.0000 - val_loss: 3.0785e-09 - val_accuracy: 1.0000\n",
            "Epoch 10/10\n",
            "16/16 [==============================] - 4s 223ms/step - loss: 2.9770e-08 - accuracy: 1.0000 - val_loss: 3.0531e-09 - val_accuracy: 1.0000\n"
          ],
          "name": "stdout"
        },
        {
          "output_type": "execute_result",
          "data": {
            "text/plain": [
              "<tensorflow.python.keras.callbacks.History at 0x7fc78531f160>"
            ]
          },
          "metadata": {
            "tags": []
          },
          "execution_count": 6
        }
      ]
    },
    {
      "cell_type": "code",
      "metadata": {
        "id": "AnweUtK7WG02",
        "colab_type": "code",
        "colab": {
          "base_uri": "https://localhost:8080/",
          "height": 68
        },
        "outputId": "c50761e4-3006-43cf-d9ee-0c2753dc1af5"
      },
      "source": [
        "test_loss, test_acc = classifier.evaluate(test_set, steps = 1)\n",
        "print('Test loss: ', test_loss)\n",
        "print('Test accuracy: ', test_acc)"
      ],
      "execution_count": 7,
      "outputs": [
        {
          "output_type": "stream",
          "text": [
            "1/1 [==============================] - 0s 2ms/step - loss: 3.0531e-09 - accuracy: 1.0000\n",
            "Test loss:  3.053109098871687e-09\n",
            "Test accuracy:  1.0\n"
          ],
          "name": "stdout"
        }
      ]
    },
    {
      "cell_type": "code",
      "metadata": {
        "id": "XDF0vrmrWKVf",
        "colab_type": "code",
        "colab": {
          "base_uri": "https://localhost:8080/",
          "height": 81
        },
        "outputId": "68a4b7a8-da97-4f40-d1ee-8ab68b838f13"
      },
      "source": [
        "from keras.preprocessing import image\n",
        "\n",
        "test_image = image.load_img('/content/drive/My Drive/Colab Notebooks/CNN Homework/classify/img1.jpg', target_size = (64, 64))\n",
        "test_image"
      ],
      "execution_count": 8,
      "outputs": [
        {
          "output_type": "execute_result",
          "data": {
            "image/png": "[encoded data removed]",
            "text/plain": [
              "<PIL.Image.Image image mode=RGB size=64x64 at 0x7FC7852D1518>"
            ]
          },
          "metadata": {
            "tags": []
          },
          "execution_count": 8
        }
      ]
    },
    {
      "cell_type": "code",
      "metadata": {
        "id": "xjl4xlyKWNBa",
        "colab_type": "code",
        "colab": {
          "base_uri": "https://localhost:8080/",
          "height": 34
        },
        "outputId": "4fee3437-4ee5-413a-fac4-725534d756e0"
      },
      "source": [
        "test_image = np.array(test_image)/255.0\n",
        "test_image.shape"
      ],
      "execution_count": 9,
      "outputs": [
        {
          "output_type": "execute_result",
          "data": {
            "text/plain": [
              "(64, 64, 3)"
            ]
          },
          "metadata": {
            "tags": []
          },
          "execution_count": 9
        }
      ]
    },
    {
      "cell_type": "code",
      "metadata": {
        "id": "Ua2ayQ81WP4H",
        "colab_type": "code",
        "colab": {
          "base_uri": "https://localhost:8080/",
          "height": 34
        },
        "outputId": "74b7fe6c-7cc1-460a-f682-afd890fdaa2c"
      },
      "source": [
        "result = classifier.predict(test_image[np.newaxis, :])\n",
        "result"
      ],
      "execution_count": 10,
      "outputs": [
        {
          "output_type": "execute_result",
          "data": {
            "text/plain": [
              "array([[3.5915735e-09]], dtype=float32)"
            ]
          },
          "metadata": {
            "tags": []
          },
          "execution_count": 10
        }
      ]
    },
    {
      "cell_type": "code",
      "metadata": {
        "id": "nD-R6Qo8WUCB",
        "colab_type": "code",
        "colab": {
          "base_uri": "https://localhost:8080/",
          "height": 34
        },
        "outputId": "ac0b7f68-81a2-4cae-d28f-0d36b80e625f"
      },
      "source": [
        "training_set.class_indices"
      ],
      "execution_count": 10,
      "outputs": [
        {
          "output_type": "execute_result",
          "data": {
            "text/plain": [
              "{'A': 0, 'B': 1}"
            ]
          },
          "metadata": {
            "tags": []
          },
          "execution_count": 10
        }
      ]
    },
    {
      "cell_type": "code",
      "metadata": {
        "id": "ChhF0JmvWU0v",
        "colab_type": "code",
        "colab": {}
      },
      "source": [
        "training_set.class_indices\n",
        "if result[0][0] == 1:\n",
        "    prediction = 'Alert!'\n",
        "else:\n",
        "    prediction = 'Acceptable, continue.'"
      ],
      "execution_count": 0,
      "outputs": []
    },
    {
      "cell_type": "code",
      "metadata": {
        "id": "alctMrvaWXpF",
        "colab_type": "code",
        "colab": {
          "base_uri": "https://localhost:8080/",
          "height": 281
        },
        "outputId": "9ea26141-9e72-4e5f-bef5-4c2de12d7abf"
      },
      "source": [
        "plt.imshow(test_image)\n",
        "plt.axis('off')\n",
        "plt.title(\"Prediction: \" + prediction)"
      ],
      "execution_count": 12,
      "outputs": [
        {
          "output_type": "execute_result",
          "data": {
            "text/plain": [
              "Text(0.5, 1.0, 'Prediction: Acceptable, continue.')"
            ]
          },
          "metadata": {
            "tags": []
          },
          "execution_count": 12
        },
        {
          "output_type": "display_data",
          "data": {
            "image/png": "[encoded data removed]",
            "text/plain": [
              "<Figure size 432x288 with 1 Axes>"
            ]
          },
          "metadata": {
            "tags": [],
            "needs_background": "light"
          }
        }
      ]
    }
  ]
}